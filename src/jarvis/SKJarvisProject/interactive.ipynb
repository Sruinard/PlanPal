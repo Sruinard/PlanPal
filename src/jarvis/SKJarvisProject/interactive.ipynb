{
 "cells": [
  {
   "cell_type": "code",
   "execution_count": 1,
   "metadata": {},
   "outputs": [],
   "source": [
    "import copilot_kernel as ck\n",
    "import semantic_kernel as sk"
   ]
  },
  {
   "cell_type": "code",
   "execution_count": 2,
   "metadata": {},
   "outputs": [],
   "source": [
    "kernel = ck.get_kernel()\n",
    "ck.init_kernel_with_functions(kernel)\n"
   ]
  },
  {
   "cell_type": "code",
   "execution_count": 4,
   "metadata": {},
   "outputs": [],
   "source": [
    "token = \"\"\"EwBgA8l6BAAUAOyDv0l6PcCVu89kmzvqZmkWABkAAdJtTWQxsc9Xg76RshlEAo2zXZPkxccLqW1k1ctAZpNENYXCmpseNDLFIClyofLKRT8b511QZSeEo4yK26YGF31wfik60TydBqZAIkbGuXv/Y3Mzm4ZxMr6keRF0xFHDQN1Uj9717wYh7gUAmYmw4hOutkHJIYogMUCGZ+l9XO5h7Um0HuLvP/73S5gK6ZkRRidrumk2fFCuil66LAWfddr3vrGPaFXVBDTzNjpIapPhy8OnEK5HX5hRWsa3XZJFM0gqJ1yLdMFJD6ujNQ6VVD1murTQwSrzXBee9JFdUn2lsVePU8ZWzpqN+1Z/qr3yjvnxYG4/Ytijbj8raBdRB5kDZgAACINp1Yr10bV+MAJw+7AicIPLpNEQ87aFadaJ9SgYR0TYMvVWoVbUpd2+RmOVzBHWSRuQEFxAd0/5kav0At8mZ7JuDHyrkRe7cmj9ykqE4UMdLK2HagBMw4oS/LIzXcabaDBEV/pcrJ8V4/NkrK5OsMjcH24YICIOgumFE/IDfANGoRDoNKAnqbJ+7xr2v2pZ0ooat2QNZeX/JnwxDn+48vRuTiQdJVw6fCeRw4I3eqOoXKXx54q/r74xfqIADSPwncaeCSAogDigo1B8npNFAP4gWpfl/gq5t1xWM8GY3TDl0yeT0T0oXx+qat4L1DM9G3sP/vj3VR4zZSoJ5KgyX3mAPQZPtpeNftR0vvJYJPAJaknDqPhtJERiFzfBxuxdD5XEKg96BVCt1Kpk6plFB7MDJYp6J4SrMBcZwCYx/FsiwIpI9yvDNGHTRikbtzQ8nReDKuHN6RELUCzERXVN6Tyy5ozJOLdnbUdoUJ7uZBrOaVpgeZWShXosglpmcsebx1V3LDzRES+7/9F6VtqQQ951GmXKAiUSsDCDQ94XBJtOFVuCjetzFSX8Zr5PV4dT0RrG1uXnR7zukL1Wx+c4xTebcisS1RVutXYGEb020G0XcumkkUCPDLGibuVH1tMAbuDNf4KaVLU1RFOEzLFQvaipDjtoxYCC2zfAzcpCELNQZGuX/PcIPjxKCMMvXp1kjwkKhHx0RSHQ+dgIVdwgQ74xdMdPrmoJCyTpG160MkXf6wtKRtE5KzlZ13IC\"\"\"\n",
    "context = kernel.create_new_context()"
   ]
  },
  {
   "cell_type": "code",
   "execution_count": 6,
   "metadata": {},
   "outputs": [],
   "source": [
    "seman_func = context.skills.get_function(\"CalendarSemanticSkill\", \"SemanticTimeToGraphFilter\")\n"
   ]
  },
  {
   "cell_type": "code",
   "execution_count": 13,
   "metadata": {},
   "outputs": [
    {
     "name": "stderr",
     "output_type": "stream",
     "text": [
      "INFO:openai:message='OpenAI API response' path=https://csu-nl-sk-hackathon.openai.azure.com/openai/deployments/text-davinci-003/completions?api-version=2022-12-01 processing_ms=2013.7131 request_id=8a88a453-1c02-46c9-99d0-8ef97c521d86 response_code=200\n"
     ]
    }
   ],
   "source": [
    "output = await seman_func.invoke_async(input=context.variables)"
   ]
  },
  {
   "cell_type": "code",
   "execution_count": 14,
   "metadata": {},
   "outputs": [
    {
     "data": {
      "text/plain": [
       "'\\n\\n{\\n        \"filters\": [ \\n                \"filter=start/dateTime ge \\'2023-05-09T08:57:00Z\\' and end/dateTime lt \\'2023-05-16T08:57:00Z\\'\"\\n        ]\\n}'"
      ]
     },
     "execution_count": 14,
     "metadata": {},
     "output_type": "execute_result"
    }
   ],
   "source": [
    "output.result"
   ]
  },
  {
   "cell_type": "code",
   "execution_count": 11,
   "metadata": {},
   "outputs": [
    {
     "name": "stdout",
     "output_type": "stream",
     "text": [
      "semantic-kernel==0.2.6.dev0\n"
     ]
    }
   ],
   "source": [
    "!pip freeze | grep semantic"
   ]
  },
  {
   "cell_type": "code",
   "execution_count": null,
   "metadata": {},
   "outputs": [],
   "source": []
  }
 ],
 "metadata": {
  "kernelspec": {
   "display_name": ".venv",
   "language": "python",
   "name": "python3"
  },
  "language_info": {
   "codemirror_mode": {
    "name": "ipython",
    "version": 3
   },
   "file_extension": ".py",
   "mimetype": "text/x-python",
   "name": "python",
   "nbconvert_exporter": "python",
   "pygments_lexer": "ipython3",
   "version": "3.10.10"
  },
  "orig_nbformat": 4
 },
 "nbformat": 4,
 "nbformat_minor": 2
}
