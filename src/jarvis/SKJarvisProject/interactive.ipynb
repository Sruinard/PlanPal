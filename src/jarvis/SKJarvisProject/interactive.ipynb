{
 "cells": [
  {
   "cell_type": "code",
   "execution_count": 1,
   "metadata": {},
   "outputs": [],
   "source": [
    "import copilot_kernel as ck\n",
    "import semantic_kernel as sk"
   ]
  },
  {
   "cell_type": "code",
   "execution_count": 2,
   "metadata": {},
   "outputs": [],
   "source": [
    "kernel = ck.get_kernel()\n",
    "ck.init_kernel_with_functions(kernel)\n"
   ]
  },
  {
   "cell_type": "code",
   "execution_count": 3,
   "metadata": {},
   "outputs": [
    {
     "name": "stderr",
     "output_type": "stream",
     "text": [
      "INFO:openai:message='OpenAI API response' path=https://csu-nl-sk-hackathon.openai.azure.com/openai/deployments/text-davinci-003/completions?api-version=2022-12-01 processing_ms=3505.9972 request_id=a4c4539f-949d-4522-8c15-399fb1293ca9 response_code=200\n"
     ]
    },
    {
     "name": "stdout",
     "output_type": "stream",
     "text": [
      "Meeting times: \n",
      "start_time: 2023-05-11T10:19:00Z\n",
      "end_time: 2023-05-11T10:19:00Z\n",
      "\n",
      "Explanation:\n",
      "Today is Thursday, May 11, 2023 10:19 AM. This means that the start time for the meeting should be 2023-05-11T10:19:00Z and the end time should also be 2023-05-11T10:19:00Z. This is because the meeting is proposed to take place on the same day and time as the user input. \n",
      "[END OF ANSWER]\n"
     ]
    },
    {
     "name": "stderr",
     "output_type": "stream",
     "text": [
      "INFO:openai:message='OpenAI API response' path=https://csu-nl-sk-hackathon.openai.azure.com/openai/deployments/text-davinci-003/completions?api-version=2022-12-01 processing_ms=460.3764 request_id=aec49777-db7d-4a25-9493-4a2dbef9e8dc response_code=200\n"
     ]
    },
    {
     "name": "stdout",
     "output_type": "stream",
     "text": [
      "Subject: \n",
      "Discussing Our Next Steps for Success\n"
     ]
    },
    {
     "name": "stderr",
     "output_type": "stream",
     "text": [
      "INFO:openai:message='OpenAI API response' path=https://csu-nl-sk-hackathon.openai.azure.com/openai/deployments/text-davinci-003/completions?api-version=2022-12-01 processing_ms=2031.386 request_id=aef31df1-40da-4d6e-bfe3-3536578cddb3 response_code=200\n"
     ]
    },
    {
     "name": "stdout",
     "output_type": "stream",
     "text": [
      "\n",
      "{\n",
      "    \"subject\": \"Discussing Our Next Steps for Success\",\n",
      "    \"start\": \"2023-05-11T10:19:00Z\",\n",
      "    \"end\": \"2023-05-11T10:19:00Z\"\n",
      "}\n"
     ]
    }
   ],
   "source": [
    "context = kernel.create_new_context()\n",
    "start_and_end_func = context.skills.get_function(\"CalendarSemanticSkill\", \"ExtractStartAndEndTimeFromUserInput\")\n",
    "subject_func = context.skills.get_function(\"CalendarSemanticSkill\", \"ExtractSubjectFromUserInput\")\n",
    "formatter = context.skills.get_function(\"CalendarSemanticSkill\", \"FormatMeetingForCalendarEvent\")\n",
    "\n",
    "# context.variables[\"user_input\"] = \"I want to meet tomorrow at 3pm to discuss the project about AI\"\n",
    "# context.variables[\"chat_history\"] = \"I want to meet tomorrow at 3pm to discuss the project\"\n",
    "\n",
    "meeting_times = await start_and_end_func.invoke_async(context=context)\n",
    "print(f\"Meeting times: {meeting_times.result}\")\n",
    "context.variables[\"start_and_end_time\"] = meeting_times.result\n",
    "subject = await subject_func.invoke_async(context=context)\n",
    "print(f\"Subject: {subject.result}\")\n",
    "context.variables[\"email_subject\"] = subject.result\n",
    "\n",
    "meeting = await formatter.invoke_async(context=context)\n",
    "print(meeting.result)"
   ]
  },
  {
   "cell_type": "code",
   "execution_count": 25,
   "metadata": {},
   "outputs": [
    {
     "data": {
      "text/plain": [
       "{'subject': 'Discussing the AI Project',\n",
       " 'start': '2023-05-12T15:00:00Z',\n",
       " 'end': '2023-05-12T15:30:00Z'}"
      ]
     },
     "execution_count": 25,
     "metadata": {},
     "output_type": "execute_result"
    }
   ],
   "source": [
    "import json\n",
    "json.loads(meeting.result)"
   ]
  },
  {
   "cell_type": "code",
   "execution_count": 6,
   "metadata": {},
   "outputs": [
    {
     "data": {
      "text/plain": [
       "'\\nstart_time: 2023-05-12T15:00:00Z\\nend_time: 2023-05-12T15:30:00Z\\n\\nExplanation:\\nToday is Thursday, May 11, 2023 09:32 AM. This means that tomorrow is Friday, May 12, 2023. The user wants to meet tomorrow at 3pm, so the start time of the meeting should be 2023-05-12T15:00:00Z and the end time should be 2023-05-12T15:30:00Z. \\n[END OF ANSWER]'"
      ]
     },
     "execution_count": 6,
     "metadata": {},
     "output_type": "execute_result"
    }
   ],
   "source": [
    "output.result"
   ]
  },
  {
   "cell_type": "code",
   "execution_count": 4,
   "metadata": {},
   "outputs": [],
   "source": [
    "token = \"\"\"EwBgA8l6BAAUAOyDv0l6PcCVu89kmzvqZmkWABkAAdJtTWQxsc9Xg76RshlEAo2zXZPkxccLqW1k1ctAZpNENYXCmpseNDLFIClyofLKRT8b511QZSeEo4yK26YGF31wfik60TydBqZAIkbGuXv/Y3Mzm4ZxMr6keRF0xFHDQN1Uj9717wYh7gUAmYmw4hOutkHJIYogMUCGZ+l9XO5h7Um0HuLvP/73S5gK6ZkRRidrumk2fFCuil66LAWfddr3vrGPaFXVBDTzNjpIapPhy8OnEK5HX5hRWsa3XZJFM0gqJ1yLdMFJD6ujNQ6VVD1murTQwSrzXBee9JFdUn2lsVePU8ZWzpqN+1Z/qr3yjvnxYG4/Ytijbj8raBdRB5kDZgAACINp1Yr10bV+MAJw+7AicIPLpNEQ87aFadaJ9SgYR0TYMvVWoVbUpd2+RmOVzBHWSRuQEFxAd0/5kav0At8mZ7JuDHyrkRe7cmj9ykqE4UMdLK2HagBMw4oS/LIzXcabaDBEV/pcrJ8V4/NkrK5OsMjcH24YICIOgumFE/IDfANGoRDoNKAnqbJ+7xr2v2pZ0ooat2QNZeX/JnwxDn+48vRuTiQdJVw6fCeRw4I3eqOoXKXx54q/r74xfqIADSPwncaeCSAogDigo1B8npNFAP4gWpfl/gq5t1xWM8GY3TDl0yeT0T0oXx+qat4L1DM9G3sP/vj3VR4zZSoJ5KgyX3mAPQZPtpeNftR0vvJYJPAJaknDqPhtJERiFzfBxuxdD5XEKg96BVCt1Kpk6plFB7MDJYp6J4SrMBcZwCYx/FsiwIpI9yvDNGHTRikbtzQ8nReDKuHN6RELUCzERXVN6Tyy5ozJOLdnbUdoUJ7uZBrOaVpgeZWShXosglpmcsebx1V3LDzRES+7/9F6VtqQQ951GmXKAiUSsDCDQ94XBJtOFVuCjetzFSX8Zr5PV4dT0RrG1uXnR7zukL1Wx+c4xTebcisS1RVutXYGEb020G0XcumkkUCPDLGibuVH1tMAbuDNf4KaVLU1RFOEzLFQvaipDjtoxYCC2zfAzcpCELNQZGuX/PcIPjxKCMMvXp1kjwkKhHx0RSHQ+dgIVdwgQ74xdMdPrmoJCyTpG160MkXf6wtKRtE5KzlZ13IC\"\"\"\n",
    "context = kernel.create_new_context()"
   ]
  },
  {
   "cell_type": "code",
   "execution_count": 6,
   "metadata": {},
   "outputs": [],
   "source": [
    "seman_func = context.skills.get_function(\"CalendarSemanticSkill\", \"SemanticTimeToGraphFilter\")\n"
   ]
  },
  {
   "cell_type": "code",
   "execution_count": 13,
   "metadata": {},
   "outputs": [
    {
     "name": "stderr",
     "output_type": "stream",
     "text": [
      "INFO:openai:message='OpenAI API response' path=https://csu-nl-sk-hackathon.openai.azure.com/openai/deployments/text-davinci-003/completions?api-version=2022-12-01 processing_ms=2013.7131 request_id=8a88a453-1c02-46c9-99d0-8ef97c521d86 response_code=200\n"
     ]
    }
   ],
   "source": [
    "output = await seman_func.invoke_async(input=context.variables)"
   ]
  },
  {
   "cell_type": "code",
   "execution_count": 14,
   "metadata": {},
   "outputs": [
    {
     "data": {
      "text/plain": [
       "'\\n\\n{\\n        \"filters\": [ \\n                \"filter=start/dateTime ge \\'2023-05-09T08:57:00Z\\' and end/dateTime lt \\'2023-05-16T08:57:00Z\\'\"\\n        ]\\n}'"
      ]
     },
     "execution_count": 14,
     "metadata": {},
     "output_type": "execute_result"
    }
   ],
   "source": [
    "output.result"
   ]
  },
  {
   "cell_type": "code",
   "execution_count": 11,
   "metadata": {},
   "outputs": [
    {
     "name": "stdout",
     "output_type": "stream",
     "text": [
      "semantic-kernel==0.2.6.dev0\n"
     ]
    }
   ],
   "source": [
    "!pip freeze | grep semantic"
   ]
  },
  {
   "cell_type": "code",
   "execution_count": null,
   "metadata": {},
   "outputs": [],
   "source": []
  }
 ],
 "metadata": {
  "kernelspec": {
   "display_name": ".venv",
   "language": "python",
   "name": "python3"
  },
  "language_info": {
   "codemirror_mode": {
    "name": "ipython",
    "version": 3
   },
   "file_extension": ".py",
   "mimetype": "text/x-python",
   "name": "python",
   "nbconvert_exporter": "python",
   "pygments_lexer": "ipython3",
   "version": "3.10.10"
  },
  "orig_nbformat": 4
 },
 "nbformat": 4,
 "nbformat_minor": 2
}
